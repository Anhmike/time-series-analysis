{
 "cells": [
  {
   "cell_type": "code",
   "execution_count": null,
   "metadata": {
    "collapsed": true
   },
   "outputs": [],
   "source": [
    "%load_ext autoreload\n",
    "%autoreload 2\n",
    "%matplotlib inline\n",
    "%config InlineBackend.figure_format = 'retina'\n",
    "\n",
    "from __future__ import absolute_import, division, print_function\n",
    "\n",
    "import re\n",
    "import os\n",
    "import sys\n",
    "import datetime\n",
    "import itertools\n",
    "import warnings\n",
    "\n",
    "import pandas as pd\n",
    "import pandas_datareader.data as web\n",
    "import numpy as np\n",
    "\n",
    "from statsmodels.tsa.seasonal import seasonal_decompose\n",
    "from statsmodels.tsa.stattools import adfuller\n",
    "import statsmodels.formula.api as smf\n",
    "import statsmodels.tsa.api as smt\n",
    "import statsmodels.api as sm\n",
    "import scipy.stats as scs\n",
    "#from arch import arch_model\n",
    "\n",
    "import matplotlib.pyplot as plt\n",
    "import matplotlib as mpl\n",
    "%matplotlib inline\n",
    "\n",
    "# remove warnings\n",
    "import warnings\n",
    "warnings.filterwarnings('ignore')\n",
    "\n",
    "# prevent crazy long pandas prints\n",
    "pd.options.display.max_columns = 16\n",
    "pd.options.display.max_rows = 16\n",
    "pd.set_option('display.float_format', lambda x: '%.5f' % x)\n",
    "np.set_printoptions(precision=5, suppress=True)\n",
    "\n",
    "# Display and Plotting\n",
    "import matplotlib.pyplot as plt\n",
    "#set_matplotlib_formats('pdf', 'png')\n",
    "plt.rcParams['savefig.dpi'] = 80\n",
    "plt.rcParams['figure.autolayout'] = False\n",
    "plt.rcParams['figure.figsize'] = 16, 8\n",
    "plt.rcParams['axes.labelsize'] = 16\n",
    "plt.rcParams['axes.labelweight'] = 'bold'\n",
    "plt.rcParams['axes.titlesize'] = 20\n",
    "plt.rcParams['axes.titleweight'] = 'bold'\n",
    "plt.rcParams['font.size'] = 16\n",
    "plt.rcParams['lines.linewidth'] = 2.0\n",
    "plt.rcParams['lines.markersize'] = 8\n",
    "plt.rcParams['legend.fontsize'] = 14\n",
    "plt.rcParams['text.usetex'] = False\n",
    "#plt.rcParams['font.family'] = \"serif\"\n",
    "plt.rcParams['font.serif'] = \"cm\"\n",
    "plt.rcParams['text.latex.preamble'] = b\"\\usepackage{subdepth}, \\usepackage{type1cm}\"\n",
    "\n",
    "import seaborn as sns\n",
    "sns.set_style(\"whitegrid\", {'axes.grid' : False})\n",
    "\n",
    "\n",
    "from ipywidgets import interactive, widgets, RadioButtons, ToggleButtons, Select, FloatSlider, FloatProgress\n",
    "\n",
    "from IPython.display import set_matplotlib_formats, Image"
   ]
  },
  {
   "cell_type": "markdown",
   "metadata": {},
   "source": [
    "# 4. Stationarize a time series\n",
    "\n",
    "For this section, the function <code>ts_diagnostics</code> is introduced to monitor the effort of stationarizing the time series."
   ]
  },
  {
   "cell_type": "code",
   "execution_count": null,
   "metadata": {
    "collapsed": true
   },
   "outputs": [],
   "source": [
    "# load passenger data set and save to DataFrame\n",
    "pas = pd.read_csv('./data/passengers.csv', header=0, index_col=0, parse_dates=True, sep=';')\n",
    "y = pas['n_passengers']"
   ]
  },
  {
   "cell_type": "code",
   "execution_count": null,
   "metadata": {
    "collapsed": true
   },
   "outputs": [],
   "source": [
    "def ts_diagnostics(y, lags=None, title=''):\n",
    "    '''\n",
    "    Calculate acf, pacf, qq plot and Augmented Dickey Fuller test for a given time series\n",
    "    '''\n",
    "    if not isinstance(y, pd.Series):\n",
    "        y = pd.Series(y)\n",
    "        \n",
    "    # weekly moving averages (5 day window because of workdays)\n",
    "    rolling_mean = pd.rolling_mean(y, window=12)\n",
    "    rolling_std = pd.rolling_std(y, window=12)\n",
    "    \n",
    "    fig = plt.figure(figsize=(14, 12))\n",
    "    layout = (3, 2)\n",
    "    ts_ax = plt.subplot2grid(layout, (0, 0), colspan=2)\n",
    "    acf_ax = plt.subplot2grid(layout, (1, 0))\n",
    "    pacf_ax = plt.subplot2grid(layout, (1, 1))\n",
    "    qq_ax = plt.subplot2grid(layout, (2, 0))\n",
    "    hist_ax = plt.subplot2grid(layout, (2, 1))\n",
    "    \n",
    "    # time series plot\n",
    "    y.plot(ax=ts_ax)\n",
    "    rolling_mean.plot(ax=ts_ax, color='crimson');\n",
    "    rolling_std.plot(ax=ts_ax, color='darkslateblue');\n",
    "    plt.legend(loc='best')\n",
    "    ts_ax.set_title(title);\n",
    "    \n",
    "    # acf and pacf\n",
    "    smt.graphics.plot_acf(y, lags=lags, ax=acf_ax, alpha=0.5)\n",
    "    smt.graphics.plot_pacf(y, lags=lags, ax=pacf_ax, alpha=0.5) \n",
    "    \n",
    "    # qq plot\n",
    "    sm.qqplot(y, line='s', ax=qq_ax)\n",
    "    qq_ax.set_title('QQ Plot')\n",
    "    \n",
    "    \n",
    "    # hist plot\n",
    "    y.plot(ax=hist_ax, kind='hist', bins=25);\n",
    "    hist_ax.set_title('Histogram');\n",
    "    plt.tight_layout();\n",
    "    plt.show()\n",
    "    \n",
    "    # perform Augmented Dickey Fuller test\n",
    "    print('Results of Dickey-Fuller test:')\n",
    "    dftest = adfuller(y, autolag='AIC')\n",
    "    dfoutput = pd.Series(dftest[0:4], index=['test statistic', 'p-value', '# of lags', '# of observations'])\n",
    "    for key, value in dftest[4].items():\n",
    "        dfoutput['Critical Value (%s)'%key] = value\n",
    "    print(dfoutput)\n",
    "    return "
   ]
  },
  {
   "cell_type": "code",
   "execution_count": null,
   "metadata": {
    "collapsed": true
   },
   "outputs": [],
   "source": [
    "ts_diagnostics(y, lags=30, title='International Airline Passengers')"
   ]
  },
  {
   "cell_type": "markdown",
   "metadata": {},
   "source": [
    "<strong>Inference</strong>\n",
    "<ul>\n",
    "<li>Application of the log transformation resulted in less variation of the processes variance</li>\n",
    "<li>Process is still not stationary, since test statistic is larger than the critical value</li>\n",
    "</ul>\n",
    "\n",
    "## 4.1 First difference\n",
    "\n",
    "The first difference is used to make a time series trend or <strong>mean stationary</strong>. A first difference can be applied applied by\n",
    "\n",
    "$$ \n",
    "y'_t = y_t - Y_{t-1}\n",
    "$$"
   ]
  },
  {
   "cell_type": "code",
   "execution_count": null,
   "metadata": {
    "collapsed": true
   },
   "outputs": [],
   "source": [
    "y_diff = np.diff(y)"
   ]
  },
  {
   "cell_type": "code",
   "execution_count": null,
   "metadata": {
    "collapsed": true
   },
   "outputs": [],
   "source": [
    "ts_diagnostics(y_diff, lags=30, title='International Aliline Passengers log')"
   ]
  },
  {
   "cell_type": "markdown",
   "metadata": {},
   "source": [
    "<strong>Inference</strong>\n",
    "<ul>\n",
    "<li>Improvement for the Dickey Fuller test statistic, but process is still not stationary</li>\n",
    "<li>Serial correlation has been reduced</li>\n",
    "<li>Mean appears mean stationary around 0.</li>\n",
    "</ul>\n",
    "\n",
    "## 4.2 Log transformation\n",
    "\n",
    "The log transformation is used to make a time series stationary on the variance.\n",
    "\n",
    "$$\n",
    "y^{log}_t = log(y_t)\n",
    "$$\n",
    "\n",
    "Note, that the series will not be stationary on the mean since the original data and not the differenced data is used here"
   ]
  },
  {
   "cell_type": "code",
   "execution_count": null,
   "metadata": {
    "collapsed": true
   },
   "outputs": [],
   "source": [
    "y_log = np.log(y)"
   ]
  },
  {
   "cell_type": "code",
   "execution_count": null,
   "metadata": {
    "collapsed": true
   },
   "outputs": [],
   "source": [
    "ts_diagnostics(y_log, lags=30, title='International Aliline Passengers log')"
   ]
  },
  {
   "cell_type": "markdown",
   "metadata": {},
   "source": [
    "<strong>Inference</strong>\n",
    "<ul>\n",
    "<li>Application of the log transformation resulted in less variation of the processes variance</li>\n",
    "<li>Process is still not stationary, since test statistic is larger than the critical value</li>\n",
    "<li>Strong serial correlation rmains within the series</li>\n",
    "<li>The errors do not appear do be normally distributed</li>\n",
    "</ul>\n",
    "\n",
    "## 4.3 Log transformed first order difference\n",
    "\n",
    "$$\n",
    "y'_t = log(y_t) - log(y_{t-1})\n",
    "$$"
   ]
  },
  {
   "cell_type": "code",
   "execution_count": null,
   "metadata": {
    "collapsed": true
   },
   "outputs": [],
   "source": [
    "y_log_diff = np.log(y).diff().dropna()"
   ]
  },
  {
   "cell_type": "code",
   "execution_count": null,
   "metadata": {
    "collapsed": true
   },
   "outputs": [],
   "source": [
    "ts_diagnostics(y_log_diff, lags=30, title='International Airline Passengers log')"
   ]
  },
  {
   "cell_type": "markdown",
   "metadata": {},
   "source": [
    "<strong>Inference</strong>\n",
    "<ul>\n",
    "<li>Application of the first difference seems to have extracted the trend pattern</li>\n",
    "<li>However, the process is still not stationary, since test statistic is larger than the critical value</li>\n",
    "<li>The plotted series can now be interpreted as percentages changes per month</li>\n",
    "</ul>\n",
    "\n",
    "\n",
    "## 4.4 Log transformed second order difference\n",
    "\n",
    "Sicne the time series is still not stationary (as indicated by the Dickey-Fuller test) another differencing step can be included."
   ]
  },
  {
   "cell_type": "code",
   "execution_count": null,
   "metadata": {
    "collapsed": true
   },
   "outputs": [],
   "source": [
    "y_log_diff2 = np.log(y).diff().diff(12).dropna()"
   ]
  },
  {
   "cell_type": "code",
   "execution_count": null,
   "metadata": {
    "collapsed": true
   },
   "outputs": [],
   "source": [
    "ts_diagnostics(y_log_diff2, lags=30, title='International Aliline Passengers log')"
   ]
  },
  {
   "cell_type": "markdown",
   "metadata": {},
   "source": [
    "## 4.5 Interpreting ACF and PACF\n",
    "\n",
    "Since there are spikes in the ACF and PACF plots which lie outsight the insignifcant zone it can be concluded that the residuals are still not random. This implies that there is an information pattern left in the residuals which can be extracted by <strong>autoregressive</strong> and <strong>moving average</strong> models.\n",
    "\n",
    "When looking at the PACF and ACF plot of the log transformed second order differenced time series a significant spike in the residuals at lag 12 can be detected. This is an indication for the seasonal component, which as not been extracted from the series completely. Overall, this preliminary result makes sense, since the analyzed data has a monthly frequency that tends to have a seasonality of 12 months.\n",
    "\n",
    "## 4.6 Exercise\n",
    "\n",
    "Analyse any of the time series in the stock data set. What transformations are needed to make the series stationary according to the Dickey Fuller test for stationarity?"
   ]
  },
  {
   "cell_type": "code",
   "execution_count": null,
   "metadata": {
    "collapsed": true
   },
   "outputs": [],
   "source": []
  },
  {
   "cell_type": "code",
   "execution_count": null,
   "metadata": {
    "collapsed": true
   },
   "outputs": [],
   "source": []
  },
  {
   "cell_type": "code",
   "execution_count": null,
   "metadata": {
    "collapsed": true
   },
   "outputs": [],
   "source": []
  }
 ],
 "metadata": {
  "kernelspec": {
   "display_name": "Python 3",
   "language": "python",
   "name": "python3"
  },
  "language_info": {
   "codemirror_mode": {
    "name": "ipython",
    "version": 3
   },
   "file_extension": ".py",
   "mimetype": "text/x-python",
   "name": "python",
   "nbconvert_exporter": "python",
   "pygments_lexer": "ipython3",
   "version": "3.5.3"
  }
 },
 "nbformat": 4,
 "nbformat_minor": 2
}
