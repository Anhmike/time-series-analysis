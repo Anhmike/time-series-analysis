{
 "cells": [
  {
   "cell_type": "code",
   "execution_count": 8,
   "metadata": {
    "collapsed": true
   },
   "outputs": [],
   "source": [
    "#%load_ext autoreload\n",
    "#%autoreload 2\n",
    "%matplotlib inline\n",
    "%config InlineBackend.figure_format = 'retina'\n",
    "\n",
    "\n",
    "# basic functionalities\n",
    "import re\n",
    "import os\n",
    "import sys\n",
    "import datetime\n",
    "import itertools\n",
    "import math \n",
    "\n",
    "\n",
    "# data transforamtion and manipulation\n",
    "import pandas as pd\n",
    "import pandas_datareader.data as web\n",
    "import numpy as np\n",
    "# prevent crazy long pandas prints\n",
    "pd.options.display.max_columns = 16\n",
    "pd.options.display.max_rows = 16\n",
    "pd.set_option('display.float_format', lambda x: '%.5f' % x)\n",
    "np.set_printoptions(precision=5, suppress=True)\n",
    "\n",
    "\n",
    "# remove warnings\n",
    "import warnings\n",
    "warnings.filterwarnings('ignore')\n",
    "\n",
    "\n",
    "# plotting and plot stying\n",
    "import matplotlib.pyplot as plt\n",
    "import matplotlib as mpl\n",
    "import seaborn as sns\n",
    "plt.style.use('seaborn')\n",
    "#sns.set_style(\"whitegrid\", {'axes.grid' : False})\n",
    "#set_matplotlib_formats('pdf', 'png')\n",
    "plt.rcParams['savefig.dpi'] = 80\n",
    "plt.rcParams['figure.autolayout'] = False\n",
    "plt.rcParams['figure.figsize'] = (16, 8)\n",
    "plt.rcParams['axes.labelsize'] = 16\n",
    "plt.rcParams['axes.labelweight'] = 'bold'\n",
    "plt.rcParams['axes.titlesize'] = 20\n",
    "plt.rcParams['axes.titleweight'] = 'bold'\n",
    "plt.rcParams['font.size'] = 16\n",
    "plt.rcParams['lines.linewidth'] = 2.0\n",
    "plt.rcParams['lines.markersize'] = 8\n",
    "plt.rcParams['legend.fontsize'] = 14\n",
    "plt.rcParams['text.usetex'] = False\n",
    "#plt.rcParams['font.family'] = \"serif\"\n",
    "plt.rcParams['font.serif'] = \"cm\"\n",
    "plt.rcParams['text.latex.preamble'] = b\"\\usepackage{subdepth}, \\usepackage{type1cm}\"\n",
    "\n",
    "from scipy import optimize\n",
    "\n",
    "# jupyter wdgets\n",
    "from ipywidgets import interactive, widgets, RadioButtons, ToggleButtons, Select, FloatSlider, FloatProgress\n",
    "from IPython.display import set_matplotlib_formats, Image, IFrame"
   ]
  },
  {
   "cell_type": "markdown",
   "metadata": {},
   "source": [
    "# Artificial Neural Network\n",
    "\n",
    "<strong>Artificial neural networks (ANNs)</strong> are computing systems inspired by the biological neural networks that constitute bilological brains. Such systems learn (progressively improve performance) to do tasks by considering examples, generally without task-specific programming (if-then clauses).\n",
    "\n",
    "An ANN is based on a collection of connected units called <strong>Perceptrons</strong> analogous to neurons in a biological brain. Each connection (synapse) between neurons can transmit a signal to another neuron. The receiving (postsynaptic) neuron can process the signal(s) and then signal downstream neurons connected to it.\n",
    "\n",
    "\n",
    "# Data\n",
    "\n",
    "Since the output variable is a contineous variable the estimation probel is called a **supervised regression problem**. The training is\n",
    "\n",
    "$$\n",
    "X = \\begin{bmatrix}\n",
    "3 & 5 \\\\\n",
    "5 & 1 \\\\\n",
    "10 & 2\n",
    "\\end{bmatrix}, \\hspace{2cm} y = \\begin{bmatrix}\n",
    "75 \\\\\n",
    "82 \\\\\n",
    "93\n",
    "\\end{bmatrix}\n",
    "$$ \n",
    "\n",
    "and further, we want to estimate $\\hat{y}$ for a test data input of $\\left[8, 5\\right]$"
   ]
  },
  {
   "cell_type": "code",
   "execution_count": 104,
   "metadata": {
    "collapsed": true
   },
   "outputs": [],
   "source": [
    "# X = (hours sleeping, hours studying), y = Score on test\n",
    "X = np.array(([3,5], [5,1], [10,2]), dtype=float)\n",
    "y = np.array(([75], [82], [93]), dtype=float)"
   ]
  },
  {
   "cell_type": "code",
   "execution_count": 105,
   "metadata": {},
   "outputs": [
    {
     "data": {
      "text/plain": [
       "array([[  3.,   5.],\n",
       "       [  5.,   1.],\n",
       "       [ 10.,   2.]])"
      ]
     },
     "execution_count": 105,
     "metadata": {},
     "output_type": "execute_result"
    }
   ],
   "source": [
    "X"
   ]
  },
  {
   "cell_type": "code",
   "execution_count": 106,
   "metadata": {},
   "outputs": [
    {
     "data": {
      "text/plain": [
       "array([[ 75.],\n",
       "       [ 82.],\n",
       "       [ 93.]])"
      ]
     },
     "execution_count": 106,
     "metadata": {},
     "output_type": "execute_result"
    }
   ],
   "source": [
    "y"
   ]
  },
  {
   "cell_type": "code",
   "execution_count": 107,
   "metadata": {
    "collapsed": true
   },
   "outputs": [],
   "source": [
    "# scaling\n",
    "X = X/np.amax(X, axis=0)\n",
    "y = y/100"
   ]
  },
  {
   "cell_type": "code",
   "execution_count": 108,
   "metadata": {},
   "outputs": [
    {
     "data": {
      "text/plain": [
       "array([[ 0.3,  1. ],\n",
       "       [ 0.5,  0.2],\n",
       "       [ 1. ,  0.4]])"
      ]
     },
     "execution_count": 108,
     "metadata": {},
     "output_type": "execute_result"
    }
   ],
   "source": [
    "X"
   ]
  },
  {
   "cell_type": "code",
   "execution_count": 109,
   "metadata": {},
   "outputs": [
    {
     "data": {
      "text/plain": [
       "array([[ 0.75],\n",
       "       [ 0.82],\n",
       "       [ 0.93]])"
      ]
     },
     "execution_count": 109,
     "metadata": {},
     "output_type": "execute_result"
    }
   ],
   "source": [
    "y"
   ]
  },
  {
   "cell_type": "markdown",
   "metadata": {},
   "source": [
    "# Perceptron\n",
    "\n",
    "The very basic ingredient of any artificial neural network is the artificial neuron, called <strong>Perceptron</strong>. These neurons are connected via <strong>synapses</strong>. Synapses take the input $x_{ij}$ from the preceeding layer and multiply his value with a weight $w_{ij}$ and output, $x_{ij} w_{ij}$ the result to the subsequent layer. The summed and weighted input is than passed to an activation function. This output is further called the activation pertaining to a perceptron."
   ]
  },
  {
   "cell_type": "code",
   "execution_count": 4,
   "metadata": {},
   "outputs": [
    {
     "data": {
      "text/html": [
       "\n",
       "        <iframe\n",
       "            width=\"1000\"\n",
       "            height=\"800\"\n",
       "            src=\"./img/perceptron.pdf\"\n",
       "            frameborder=\"0\"\n",
       "            allowfullscreen\n",
       "        ></iframe>\n",
       "        "
      ],
      "text/plain": [
       "<IPython.lib.display.IFrame at 0x5299160>"
      ]
     },
     "execution_count": 4,
     "metadata": {},
     "output_type": "execute_result"
    }
   ],
   "source": [
    "IFrame(\"./img/perceptron.pdf\", width=1000, height=800)"
   ]
  },
  {
   "cell_type": "code",
   "execution_count": null,
   "metadata": {
    "collapsed": true
   },
   "outputs": [],
   "source": [
    "Sne"
   ]
  },
  {
   "cell_type": "code",
   "execution_count": 9,
   "metadata": {},
   "outputs": [
    {
     "data": {
      "image/png": "[encoded data removed]",
      "text/plain": [
       "<matplotlib.figure.Figure at 0x520ce48>"
      ]
     },
     "metadata": {
      "image/png": {
       "height": 523,
       "width": 949
      }
     },
     "output_type": "display_data"
    }
   ],
   "source": [
    "# initialize figur and axes\n",
    "fig, axes = plt.subplots(1, 2, sharey=False, sharex=False);\n",
    "fig.suptitle('XOR Problem', fontsize=24, fontweight='bold')\n",
    "\n",
    "# classifiable plot\n",
    "axes[0].plot([0,0,1], [0,1,0], 'o', color='grey')\n",
    "axes[0].plot([1], [1], 'X', color='red')\n",
    "axes[0].plot([0.25, 1.25], [1.25, 0.25], color='black')\n",
    "axes[0].set_xlim((-0.5, 1.5))\n",
    "axes[0].set_ylim((-0.5, 1.5))\n",
    "\n",
    "# unclassifiable plot\n",
    "axes[1].plot([0,1], [1,0], 'o', color='grey')\n",
    "axes[1].plot([0, 1], [0, 1], 'X', color='red')\n",
    "axes[1].set_xlim((-0.5, 1.5))\n",
    "axes[1].set_ylim((-0.5, 1.5))\n",
    "\n",
    "plt.show()"
   ]
  },
  {
   "cell_type": "markdown",
   "metadata": {},
   "source": [
    "## Multilayer Perceptron Network\n",
    "\n",
    "The neural network constructed in this session has two input neurons, one for every $j$ in input vector $X$, one hidden alyer with three neurons and an output layer with one neuron, correpsonding to the dimension of the desired output. These are the hyperparameters of the model which are not updated as the network is trained"
   ]
  },
  {
   "cell_type": "code",
   "execution_count": null,
   "metadata": {
    "collapsed": true
   },
   "outputs": [],
   "source": [
    "IFrame(\"./img/network.pdf\", width=1000, height=800)"
   ]
  },
  {
   "cell_type": "markdown",
   "metadata": {},
   "source": [
    "# Forward Propagation\n",
    "\n",
    "The neural network is not capable of deciding the size and depth of a neural network and hence the architectual structure of the network have to be provided. What a ANN does learn are the models parameters, i. e. the weights on the synapses.\n",
    "\n",
    "Data moves through the network by a method called <strong>forward propagation</strong>, hence, such models are called <strong>feed forward networks</strong>. Each input value  $x_{ij}$ of data input data matrix $X$ needs to be multiplied by the corresponding weights $w_{ij}^{(1)}$ of matrix $W^{(1)}$ like\n",
    "\n",
    "$$\n",
    "X \\cdot W^{(1)} = z^{(2)} \n",
    "$$\n",
    "\n",
    "where $Z^{(2)}$ is the calculated activity of the second layer, the sum of weighted inputs from each neuron. For the example we find\n",
    "\n",
    "$$\n",
    "\\begin{bmatrix}\n",
    "3 & 5 \\\\\n",
    "5 & 1 \\\\\n",
    "10 & 2\n",
    "\\end{bmatrix} \\cdot \\begin{bmatrix}\n",
    "w_{11}^{(1)} & w_{12}^{(1)} & w_{13}^{(1)}\\\\\n",
    "w_{21}^{(1)} & w_{22}^{(1)} & w_{23}^{(1)} \\\\\n",
    "\\end{bmatrix} = \\begin{bmatrix}\n",
    "3w_{11}^{(1)} + 5w_{21}^{(1)} & 3w_{12}^{(1)} + 5w_{22}^{(1)} & 3w_{13}^{(1)}+ 5w_{23}^{(1)}\\\\\n",
    "5w_{11}^{(1)} + 1w_{21}^{(1)} & 5w_{12}^{(1)} + 1w_{22}^{(1)} & 5w_{13}^{(1)}+ 1w_{23}^{(1)}\\\\\n",
    "10w_{11}^{(1)} + 2w_{21}^{(1)} & 10w_{12}^{(1)} + 2w_{22}^{(1)} & 10w_{13}^{(1)}+ 2w_{23}^{(1)}\n",
    "\\end{bmatrix}\n",
    "$$ \n",
    "\n",
    "To each entry in the activation $z^{(2)}$ an **Activation Function** $f(z)$ is applied which transforms the weighted input data. This represents to which a neuron is \"fired up\" and further propagates the signal forward through the network. In this example the activation function is **sigmoid** and has the form\n",
    "\n",
    "$$\n",
    "f(z) = \\frac{1}{1 + e^{(-z)}}\n",
    "$$\n",
    "\n",
    "The activation function needs to be differentiable for training the model later on. \n",
    "\n",
    "$$\n",
    "a^{(2)} = f(z^{(2)})\n",
    "$$\n",
    "\n",
    "What remains to be done is to multiply $a^{(2)}$ by the second layer weights $W^{(2)}$ \n",
    "\n",
    "$$\n",
    "z^{(3)} = a^{(2)} W^{(2)}\n",
    "$$\n",
    "\n",
    "and apply another activation function to $z^{(3)}$ to yield the estimate $\\hat{y}$\n",
    "\n",
    "$$\n",
    "\\hat{y} = f(z^{(3)})\n",
    "$$"
   ]
  },
  {
   "cell_type": "code",
   "execution_count": 82,
   "metadata": {
    "collapsed": true
   },
   "outputs": [],
   "source": [
    "class ANN(object):\n",
    "    def __init__(self):        \n",
    "        #Define Hyperparameters\n",
    "        self.inputLayerSize = 2\n",
    "        self.outputLayerSize = 1\n",
    "        self.hiddenLayerSize = 3\n",
    "        \n",
    "        #Weights (parameters)\n",
    "        self.W1 = np.random.randn(self.inputLayerSize, self.hiddenLayerSize)\n",
    "        self.W2 = np.random.randn(self.hiddenLayerSize, self.outputLayerSize)\n",
    "        \n",
    "    def feed_forward(self, X):\n",
    "        #Propagate inputs though network\n",
    "        self.z2 = np.dot(X, self.W1)\n",
    "        self.a2 = self.sigmoid(self.z2)\n",
    "        self.z3 = np.dot(self.a2, self.W2)\n",
    "        yHat = self.sigmoid(self.z3) \n",
    "        return yHat\n",
    "        \n",
    "    def sigmoid(self, z):\n",
    "        #Apply sigmoid activation function to scalar, vector, or matrix\n",
    "        return 1/(1+np.exp(-z))"
   ]
  },
  {
   "cell_type": "code",
   "execution_count": 83,
   "metadata": {
    "collapsed": true
   },
   "outputs": [],
   "source": [
    "ann = ANN()"
   ]
  },
  {
   "cell_type": "code",
   "execution_count": 84,
   "metadata": {
    "collapsed": true
   },
   "outputs": [],
   "source": [
    "yhat = ann.feed_forward(X)"
   ]
  },
  {
   "cell_type": "code",
   "execution_count": 85,
   "metadata": {},
   "outputs": [
    {
     "data": {
      "text/plain": [
       "array([[ 0.58257799],\n",
       "       [ 0.60465201],\n",
       "       [ 0.59056006]])"
      ]
     },
     "execution_count": 85,
     "metadata": {},
     "output_type": "execute_result"
    }
   ],
   "source": [
    "yhat"
   ]
  },
  {
   "cell_type": "markdown",
   "metadata": {},
   "source": [
    "# Gradient descent\n",
    "\n",
    "Using the <code>ANN</code> class to predict will yields an inaccurate result. To improve on the networks prediction one first needs to quantify the extend of how much the prediction missed the actual value using a **Cost Function**. A common cost function is the sum of squared errors\n",
    "\n",
    "$$\n",
    "E(W) = \\frac{1}{2} \\sum_{i=1}^n e_i^2 = \\frac{1}{2}\\sum_{i=1}^n \\left(y_i - \\hat{y}_i\\right)^2\n",
    "$$\n",
    "\n",
    "where $n$ is the total number of patterns shown to the system (number of input examples)."
   ]
  },
  {
   "cell_type": "code",
   "execution_count": 6,
   "metadata": {},
   "outputs": [
    {
     "data": {
      "text/html": [
       "\n",
       "        <iframe\n",
       "            width=\"1000\"\n",
       "            height=\"800\"\n",
       "            src=\"./img/error_computation.pdf\"\n",
       "            frameborder=\"0\"\n",
       "            allowfullscreen\n",
       "        ></iframe>\n",
       "        "
      ],
      "text/plain": [
       "<IPython.lib.display.IFrame at 0x520cd30>"
      ]
     },
     "execution_count": 6,
     "metadata": {},
     "output_type": "execute_result"
    }
   ],
   "source": [
    "IFrame(\"./img/error_computation.pdf\", width=1000, height=800)"
   ]
  },
  {
   "cell_type": "code",
   "execution_count": 5,
   "metadata": {},
   "outputs": [
    {
     "data": {
      "text/html": [
       "\n",
       "        <iframe\n",
       "            width=\"1000\"\n",
       "            height=\"800\"\n",
       "            src=\"./img/gradient_descent.pdf\"\n",
       "            frameborder=\"0\"\n",
       "            allowfullscreen\n",
       "        ></iframe>\n",
       "        "
      ],
      "text/plain": [
       "<IPython.lib.display.IFrame at 0x520cfd0>"
      ]
     },
     "execution_count": 5,
     "metadata": {},
     "output_type": "execute_result"
    }
   ],
   "source": [
    "IFrame(\"./img/gradient_descent.pdf\", width=1000, height=800)"
   ]
  },
  {
   "cell_type": "markdown",
   "metadata": {},
   "source": [
    "The smaller the overall cost $E$ the more accurate is the prediction. Remember that $\\hat{y}$ is ultimately a function of all model data inputs and all model synapses weights. $\\hat{y}$ can be substituted with all above functions\n",
    "\n",
    "$$\n",
    "E(W) =  \\sum_{i=1}^n \\frac{1}{2} \\left( y - f\\left(f\\left(XW^{(1)}\\right) W^{(2)}\\right) \\right)^2\n",
    "$$\n",
    "\n",
    "Since the $x_{ij}$ are fixed from the outset, the only way to improve the predicion is to adjust the weight parameters until the resulting cost is minimal. The cost minimizing parameter constellation is found with an optimization method called **Gradient Descent**\n",
    "\n",
    "The process of minimizing the cost function is referred to as **training the model**.\n",
    "\n",
    "\n",
    "The contribution of the weighted inputs to the total error are found by the partial derivatives of the loss function with respect to the weights, the <strong>gradient</strong>. This method is called <strong>gradient descent</strong>. More specifically <strong>batch gradient descent</strong> will be applied where all model weights are updated simultaneously.\n",
    "\n",
    "However, if the cost function is non-convex, the gradient descent algorithm migth get stuck in local minima instead of the desired global minimum. For that matter, the sum of squared errors is chosen as the loss function as this is a convex function.\n",
    "\n",
    "\n",
    "# Back Propagation and Perceptron Learning\n",
    "\n",
    "Given a labeld set of data $(X, y)$ an optimal setting of parameters $W$ must be found that minimizes cost function $E$., The process of propagating the estimation error $E$ back through the network is called **Back Propagation**\n",
    "\n",
    "## Second Layer derivation\n",
    "\n",
    "$$\n",
    "\\begin{align}\n",
    "\\frac{\\partial E}{\\partial W^{(2)}} &= \\frac{\\partial}{\\partial W^{(2)}}\\frac{1}{2}\\sum  \\left(y - \\hat{y}\\right)^2 \\\\\n",
    "&= \\frac{1}{2} \\sum \\frac{\\partial}{\\partial W^{(2)}} \\left(y - \\hat{y}\\right)^2 \\\\\n",
    "&= \\frac{1}{2} \\sum  2 \\left(y - \\hat{y}\\right) \\cdot \\left(-\\frac{\\partial \\hat{y}}{\\partial W^{(2)}} \\right) \\\\\n",
    "&= - \\sum \\left(y - \\hat{y}\\right) \\cdot \\frac{\\partial \\hat{y}}{\\partial z^{(3)}} \\frac{\\partial z^{(3)}}{\\partial W^{(2)}} \\\\\n",
    "&= - \\sum \\left(y - \\hat{y}\\right) f'\\left( z^{(3)}\\right) \\frac{\\partial z^{(3)}}{\\partial W^{(2)}}\n",
    "\\end{align}\n",
    "$$\n",
    "\n",
    "$\\partial z^{(3)} / \\partial W^{(2)}$ represent the change of the third layer activity with respect to the weights of the second layer. $z^{(3)}$ ís the matrix product of the second layer activity $a^{(2)}$ and second layer weights $W^{(2)}$. The activities from layer two are multiplied with their corresponding weights\n",
    "\n",
    "$$\n",
    "W^{(2)} = \\begin{bmatrix}\n",
    "w_{11}^{(2)} \\\\\n",
    "w_{21}^{(2)} \\\\\n",
    "w_{31}^{(2)} \n",
    "\\end{bmatrix}, \\hspace{2cm} a^{(2)} = \\left[a^{(2)}_1, a^{(2)}_2, a^{(2)}_3 \\right]\n",
    "$$\n",
    "\n",
    "Further,\n",
    "\n",
    "$$\n",
    "\\begin{align}\n",
    "\\frac{\\partial E}{\\partial W^{(2)}} &=  - \\sum \\left(y - \\hat{y}\\right) f'\\left( z^{(3)}\\right) \\frac{\\partial z^{(3)}}{\\partial W^{(2)}} \\\\\n",
    "&= \\begin{bmatrix}\n",
    "-y_1 - \\hat{y}_1 \\\\\n",
    "-y_2 - \\hat{y}_2  \\\\\n",
    "-y_3 - \\hat{y}_1  \n",
    "\\end{bmatrix} \\cdot \\begin{bmatrix}\n",
    "f'( z^{(3)}_1) \\\\\n",
    "f'( z^{(3)}_2)\\\\\n",
    "f'( z^{(3)}_3)\n",
    "\\end{bmatrix} \\cdot \\frac{\\partial z^{(3)}}{\\partial W^{(2)}} \\\\\n",
    "&= \\begin{bmatrix}\n",
    "\\delta_1^{(3)} \\\\\n",
    "\\delta_2^{(3)}  \\\\\n",
    "\\delta_3^{(3)}  \n",
    "\\end{bmatrix} \\cdot \\frac{\\partial z^{(3)}}{\\partial W^{(2)}} \\\\\n",
    "&= \\delta^{(3)} \\cdot \\frac{\\partial z^{(3)}}{\\partial W^{(2)}} \\\\\n",
    "&= (a^{(2)})^T \\delta^{(3)}\\\\\n",
    "\\end{align} \n",
    "$$\n",
    "\n",
    "where $\\delta^{(3)}$ is the back propagating error\n",
    "\n",
    "From the linear relation $z^{(3)} = a^{(2)} W^{(2)}$ it follows that\n",
    "\n",
    "$$\n",
    "\\frac{\\partial z^{(3)}}{\\partial W^{(2)}} = a^{(2)} =\\begin{bmatrix}\n",
    "a_{11}^{(2)} &a_{12}^{(2)}&a_{13}^{(2)} \\\\\n",
    "a_{21}^{(2)} &a_{22}^{(2)}&a_{23}^{(2)}  \\\\\n",
    "a_{31}^{(2)} &a_{32}^{(2)}&a_{33}^{(2)}   \n",
    "\\end{bmatrix}\n",
    "$$\n",
    "\n",
    "$$\n",
    "\\delta^{(3)} = - \\left(y - \\hat{y}\\right) f'\\left( z^{(3)}\\right)\n",
    "$$\n",
    "\n",
    "## Third layer derivation\n",
    "\n",
    "$$\n",
    "\\begin{align}\n",
    "\\frac{\\partial E}{\\partial W^{(1)}} &=  - \\left(y - \\hat{y}\\right) f'( z^{(3)}) \\frac{\\partial z^{(3)}}{\\partial W^{(1)}} \\\\\n",
    "&= \\delta^{(3)} \\cdot \\frac{\\partial z^{(3)}}{\\partial W^{(1)}} \\\\\n",
    "&= \\delta^{(3)} \\cdot \\frac{\\partial z^{(3)}}{\\partial a^{(2)}} \\cdot \\frac{\\partial a^{(2)}}{\\partial W^{(1)}} \\\\ \n",
    "&= \\delta^{(3)} \\cdot (W^{(2)})^T \\cdot \\frac{\\partial a^{(2)}}{\\partial W^{(1)}} \\\\\n",
    "&= \\delta^{(3)} \\cdot (W^{(2)})^T \\cdot \\frac{\\partial a^{(2)}}{\\partial z^{(2)}}  \\cdot \\frac{\\partial z^{(2)}}{\\partial W^{(1)}}\\\\\n",
    "&= \\delta^{(3)} \\cdot (W^{(2)})^T \\cdot f'( z^{(2)})  \\cdot \\frac{\\partial z^{(2)}}{\\partial W^{(1)}}\\\\\n",
    "&= X^T \\delta^{(3)} \\cdot (W^{(2)})^T \\cdot f'( z^{(2)})\\\\\n",
    "&= X^T \\delta^{(2)}\\\\\n",
    "\\end{align} \n",
    "$$\n",
    "\n",
    "where \n",
    "\n",
    "$$\n",
    "\\delta^{(2)} = X^T \\delta^{(3)} (W^{(2)})^T f'( z^{(2)})\n",
    "$$\n",
    "\n",
    "The $W$ is multiplied by the <strong>learning rate</strong> $\\nu$\n"
   ]
  },
  {
   "cell_type": "code",
   "execution_count": null,
   "metadata": {
    "collapsed": true
   },
   "outputs": [],
   "source": []
  },
  {
   "cell_type": "code",
   "execution_count": null,
   "metadata": {
    "collapsed": true
   },
   "outputs": [],
   "source": []
  },
  {
   "cell_type": "markdown",
   "metadata": {},
   "source": [
    "## Training"
   ]
  },
  {
   "cell_type": "code",
   "execution_count": 93,
   "metadata": {
    "collapsed": true
   },
   "outputs": [],
   "source": [
    "class ANN(object):\n",
    "    def __init__(self):        \n",
    "        #Define Hyperparameters\n",
    "        self.inputLayerSize = 2\n",
    "        self.outputLayerSize = 1\n",
    "        self.hiddenLayerSize = 3\n",
    "        \n",
    "        #Weights (parameters)\n",
    "        self.W1 = np.random.randn(self.inputLayerSize,self.hiddenLayerSize)\n",
    "        self.W2 = np.random.randn(self.hiddenLayerSize,self.outputLayerSize)\n",
    "        \n",
    "    def forward(self, X):\n",
    "        #Propogate inputs though network\n",
    "        self.z2 = np.dot(X, self.W1)\n",
    "        self.a2 = self.sigmoid(self.z2)\n",
    "        self.z3 = np.dot(self.a2, self.W2)\n",
    "        yHat = self.sigmoid(self.z3) \n",
    "        return yHat\n",
    "        \n",
    "    def sigmoid(self, z):\n",
    "        #Apply sigmoid activation function to scalar, vector, or matrix\n",
    "        return 1/(1+np.exp(-z))\n",
    "    \n",
    "    def sigmoidPrime(self,z):\n",
    "        #Gradient of sigmoid\n",
    "        return np.exp(-z)/((1+np.exp(-z))**2)\n",
    "    \n",
    "    def costFunction(self, X, y):\n",
    "        #Compute cost for given X,y, use weights already stored in class.\n",
    "        self.yHat = self.forward(X)\n",
    "        J = 0.5*sum((y-self.yHat)**2)\n",
    "        return J\n",
    "        \n",
    "    def costFunctionPrime(self, X, y):\n",
    "        #Compute derivative with respect to W and W2 for a given X and y:\n",
    "        self.yHat = self.forward(X)\n",
    "        \n",
    "        delta3 = np.multiply(-(y-self.yHat), self.sigmoidPrime(self.z3))\n",
    "        dJdW2 = np.dot(self.a2.T, delta3)\n",
    "        \n",
    "        delta2 = np.dot(delta3, self.W2.T)*self.sigmoidPrime(self.z2)\n",
    "        dJdW1 = np.dot(X.T, delta2)  \n",
    "        \n",
    "        return dJdW1, dJdW2\n",
    "    \n",
    "    #Helper Functions for interacting with other classes:\n",
    "    def getParams(self):\n",
    "        #Get W1 and W2 unrolled into vector:\n",
    "        params = np.concatenate((self.W1.ravel(), self.W2.ravel()))\n",
    "        return params\n",
    "    \n",
    "    def setParams(self, params):\n",
    "        #Set W1 and W2 using single paramater vector.\n",
    "        W1_start = 0\n",
    "        W1_end = self.hiddenLayerSize * self.inputLayerSize\n",
    "        self.W1 = np.reshape(params[W1_start:W1_end], (self.inputLayerSize , self.hiddenLayerSize))\n",
    "        W2_end = W1_end + self.hiddenLayerSize*self.outputLayerSize\n",
    "        self.W2 = np.reshape(params[W1_end:W2_end], (self.hiddenLayerSize, self.outputLayerSize))\n",
    "        \n",
    "    def computeGradients(self, X, y):\n",
    "        dJdW1, dJdW2 = self.costFunctionPrime(X, y)\n",
    "        return np.concatenate((dJdW1.ravel(), dJdW2.ravel()))\n",
    "\n",
    "def computeNumericalGradient(N, X, y):\n",
    "        paramsInitial = N.getParams()\n",
    "        numgrad = np.zeros(paramsInitial.shape)\n",
    "        perturb = np.zeros(paramsInitial.shape)\n",
    "        e = 1e-4\n",
    "\n",
    "        for p in range(len(paramsInitial)):\n",
    "            #Set perturbation vector\n",
    "            perturb[p] = e\n",
    "            N.setParams(paramsInitial + perturb)\n",
    "            loss2 = N.costFunction(X, y)\n",
    "            \n",
    "            N.setParams(paramsInitial - perturb)\n",
    "            loss1 = N.costFunction(X, y)\n",
    "\n",
    "            #Compute Numerical Gradient\n",
    "            numgrad[p] = (loss2 - loss1) / (2*e)\n",
    "\n",
    "            #Return the value we changed to zero:\n",
    "            perturb[p] = 0\n",
    "            \n",
    "        #Return Params to original value:\n",
    "        N.setParams(paramsInitial)\n",
    "\n",
    "        return numgrad "
   ]
  },
  {
   "cell_type": "code",
   "execution_count": 94,
   "metadata": {
    "collapsed": true
   },
   "outputs": [],
   "source": [
    "class Trainer(object):\n",
    "    def __init__(self, N):\n",
    "        #Make Local reference to network:\n",
    "        self.N = N\n",
    "        \n",
    "    def callbackF(self, params):\n",
    "        self.N.setParams(params)\n",
    "        self.J.append(self.N.costFunction(self.X, self.y))   \n",
    "        \n",
    "    def costFunctionWrapper(self, params, X, y):\n",
    "        self.N.setParams(params)\n",
    "        cost = self.N.costFunction(X, y)\n",
    "        grad = self.N.computeGradients(X, y)\n",
    "        \n",
    "        return cost, grad\n",
    "        \n",
    "    def train(self, X, y):\n",
    "        #Make an internal variable for the callback function:\n",
    "        self.X = X\n",
    "        self.y = y\n",
    "\n",
    "        #Make empty list to store costs:\n",
    "        self.J = []\n",
    "        \n",
    "        params0 = self.N.getParams()\n",
    "\n",
    "        options = {'maxiter': 200, 'disp' : True}\n",
    "        _res = optimize.minimize(self.costFunctionWrapper, params0, jac=True, method='BFGS', \\\n",
    "                                 args=(X, y), options=options, callback=self.callbackF)\n",
    "\n",
    "        self.N.setParams(_res.x)\n",
    "        self.optimizationResults = _res"
   ]
  },
  {
   "cell_type": "code",
   "execution_count": 95,
   "metadata": {
    "collapsed": true
   },
   "outputs": [],
   "source": [
    "ann = ANN()"
   ]
  },
  {
   "cell_type": "code",
   "execution_count": 96,
   "metadata": {},
   "outputs": [
    {
     "name": "stdout",
     "output_type": "stream",
     "text": [
      "Optimization terminated successfully.\n",
      "         Current function value: 0.000000\n",
      "         Iterations: 35\n",
      "         Function evaluations: 38\n",
      "         Gradient evaluations: 38\n"
     ]
    }
   ],
   "source": [
    "trainer = Trainer(ann)\n",
    "trainer.train(X, y)"
   ]
  },
  {
   "cell_type": "code",
   "execution_count": 103,
   "metadata": {},
   "outputs": [
    {
     "data": {
      "image/png": "[encoded data removed]",
      "text/plain": [
       "<matplotlib.figure.Figure at 0x1e75365e748>"
      ]
     },
     "metadata": {},
     "output_type": "display_data"
    }
   ],
   "source": [
    "plt.plot(trainer.J)\n",
    "plt.grid(1)\n",
    "plt.xlabel('Iterations')\n",
    "plt.ylabel('Cost')\n",
    "plt.show()"
   ]
  },
  {
   "cell_type": "markdown",
   "metadata": {},
   "source": [
    "## Testing, Overfitting and Regularization"
   ]
  },
  {
   "cell_type": "code",
   "execution_count": null,
   "metadata": {
    "collapsed": true
   },
   "outputs": [],
   "source": []
  },
  {
   "cell_type": "code",
   "execution_count": null,
   "metadata": {
    "collapsed": true
   },
   "outputs": [],
   "source": []
  },
  {
   "cell_type": "code",
   "execution_count": null,
   "metadata": {
    "collapsed": true
   },
   "outputs": [],
   "source": []
  },
  {
   "cell_type": "code",
   "execution_count": null,
   "metadata": {
    "collapsed": true
   },
   "outputs": [],
   "source": []
  },
  {
   "cell_type": "code",
   "execution_count": null,
   "metadata": {
    "collapsed": true
   },
   "outputs": [],
   "source": []
  }
 ],
 "metadata": {
  "kernelspec": {
   "display_name": "Python 3",
   "language": "python",
   "name": "python3"
  },
  "language_info": {
   "codemirror_mode": {
    "name": "ipython",
    "version": 3
   },
   "file_extension": ".py",
   "mimetype": "text/x-python",
   "name": "python",
   "nbconvert_exporter": "python",
   "pygments_lexer": "ipython3",
   "version": "3.5.3"
  }
 },
 "nbformat": 4,
 "nbformat_minor": 2
}
