{
 "cells": [
  {
   "cell_type": "code",
   "execution_count": 2,
   "metadata": {},
   "outputs": [
    {
     "name": "stdout",
     "output_type": "stream",
     "text": [
      "The autoreload extension is already loaded. To reload it, use:\n",
      "  %reload_ext autoreload\n"
     ]
    }
   ],
   "source": [
    "%load_ext autoreload\n",
    "%autoreload 2\n",
    "%matplotlib inline\n",
    "%config InlineBackend.figure_format = 'retina'\n",
    "\n",
    "from __future__ import absolute_import, division, print_function\n",
    "\n",
    "import re\n",
    "import os\n",
    "import sys\n",
    "import datetime\n",
    "import itertools\n",
    "import warnings\n",
    "\n",
    "import pandas as pd\n",
    "import pandas_datareader.data as web\n",
    "import numpy as np\n",
    "\n",
    "from statsmodels.tsa.seasonal import seasonal_decompose\n",
    "from statsmodels.tsa.stattools import adfuller\n",
    "import statsmodels.formula.api as smf\n",
    "import statsmodels.tsa.api as smt\n",
    "import statsmodels.api as sm\n",
    "import scipy.stats as scs\n",
    "#from arch import arch_model\n",
    "\n",
    "import matplotlib.pyplot as plt\n",
    "import matplotlib as mpl\n",
    "%matplotlib inline\n",
    "\n",
    "# remove warnings\n",
    "import warnings\n",
    "warnings.filterwarnings('ignore')\n",
    "\n",
    "# prevent crazy long pandas prints\n",
    "pd.options.display.max_columns = 16\n",
    "pd.options.display.max_rows = 16\n",
    "pd.set_option('display.float_format', lambda x: '%.5f' % x)\n",
    "np.set_printoptions(precision=5, suppress=True)\n",
    "\n",
    "# Display and Plotting\n",
    "import matplotlib.pyplot as plt\n",
    "#set_matplotlib_formats('pdf', 'png')\n",
    "plt.rcParams['savefig.dpi'] = 80\n",
    "plt.rcParams['figure.autolayout'] = False\n",
    "plt.rcParams['figure.figsize'] = 16, 8\n",
    "plt.rcParams['axes.labelsize'] = 16\n",
    "plt.rcParams['axes.labelweight'] = 'bold'\n",
    "plt.rcParams['axes.titlesize'] = 20\n",
    "plt.rcParams['axes.titleweight'] = 'bold'\n",
    "plt.rcParams['font.size'] = 16\n",
    "plt.rcParams['lines.linewidth'] = 2.0\n",
    "plt.rcParams['lines.markersize'] = 8\n",
    "plt.rcParams['legend.fontsize'] = 14\n",
    "plt.rcParams['text.usetex'] = False\n",
    "#plt.rcParams['font.family'] = \"serif\"\n",
    "plt.rcParams['font.serif'] = \"cm\"\n",
    "plt.rcParams['text.latex.preamble'] = b\"\\usepackage{subdepth}, \\usepackage{type1cm}\"\n",
    "\n",
    "import seaborn as sns\n",
    "sns.set_style(\"whitegrid\", {'axes.grid' : False})\n",
    "\n",
    "\n",
    "from ipywidgets import interactive, widgets, RadioButtons, ToggleButtons, Select, FloatSlider, FloatProgress\n",
    "\n",
    "from IPython.display import set_matplotlib_formats, Image"
   ]
  },
  {
   "cell_type": "markdown",
   "metadata": {},
   "source": [
    "# 1. Data\n",
    "\n",
    "Every problem starts with data....\n",
    "\n",
    "Obviously there are a multitude of data sets out there. Thus, we will use two data sets: the stylized \"International Airline Passengers\" data set as well as a self generated data set of stock prices simply denoted <code>data</code> we generate ourseleves later in this section\n",
    "\n",
    "## 1.1 Working with data (structures)\n",
    "\n",
    "The <code>pandas</code> module allows to introduce data management to data. using the <code>read_csv</code> method we string our data into a <code>DataFrame</code> object which allows us to directly access the data and provides us with methods which analyse or transform the data. \n",
    "\n",
    "A much better formatting of the data can be established if additional arguments are specified when importing the data set:\n",
    "<ul>\n",
    "<li><strong>header</strong>: include the first row as the header for the <code>DataFrame</code> object</li>\n",
    "<li><strong>index_col</strong>: set the index column of the DataFrame to the first column of the data set ('month')</li>\n",
    "<li><strong>parse_dates</strong>: automatically parse dates which will index the DataFrame</li>\n",
    "<li><strong>sep</strong>: specify the symbol which seperates the values and strings in the data set - in this case it is semi-colon</li>\n",
    "</ul>"
   ]
  },
  {
   "cell_type": "code",
   "execution_count": 3,
   "metadata": {
    "collapsed": true
   },
   "outputs": [],
   "source": [
    "# load passenger data set and safe to DataFrame\n",
    "pas = pd.read_csv('./data/passengers.csv', header=0, index_col=0, parse_dates=True, sep=';')"
   ]
  },
  {
   "cell_type": "code",
   "execution_count": 4,
   "metadata": {},
   "outputs": [
    {
     "data": {
      "text/html": [
       "<div>\n",
       "<style>\n",
       "    .dataframe thead tr:only-child th {\n",
       "        text-align: right;\n",
       "    }\n",
       "\n",
       "    .dataframe thead th {\n",
       "        text-align: left;\n",
       "    }\n",
       "\n",
       "    .dataframe tbody tr th {\n",
       "        vertical-align: top;\n",
       "    }\n",
       "</style>\n",
       "<table border=\"1\" class=\"dataframe\">\n",
       "  <thead>\n",
       "    <tr style=\"text-align: right;\">\n",
       "      <th></th>\n",
       "      <th>n_passengers</th>\n",
       "    </tr>\n",
       "    <tr>\n",
       "      <th>month</th>\n",
       "      <th></th>\n",
       "    </tr>\n",
       "  </thead>\n",
       "  <tbody>\n",
       "    <tr>\n",
       "      <th>1949-01-01</th>\n",
       "      <td>112</td>\n",
       "    </tr>\n",
       "    <tr>\n",
       "      <th>1949-02-01</th>\n",
       "      <td>118</td>\n",
       "    </tr>\n",
       "    <tr>\n",
       "      <th>1949-03-01</th>\n",
       "      <td>132</td>\n",
       "    </tr>\n",
       "    <tr>\n",
       "      <th>1949-04-01</th>\n",
       "      <td>129</td>\n",
       "    </tr>\n",
       "    <tr>\n",
       "      <th>1949-05-01</th>\n",
       "      <td>121</td>\n",
       "    </tr>\n",
       "  </tbody>\n",
       "</table>\n",
       "</div>"
      ],
      "text/plain": [
       "            n_passengers\n",
       "month                   \n",
       "1949-01-01           112\n",
       "1949-02-01           118\n",
       "1949-03-01           132\n",
       "1949-04-01           129\n",
       "1949-05-01           121"
      ]
     },
     "execution_count": 4,
     "metadata": {},
     "output_type": "execute_result"
    }
   ],
   "source": [
    "# print the first 5 rows of the DataFrame\n",
    "pas.head()"
   ]
  },
  {
   "cell_type": "code",
   "execution_count": 5,
   "metadata": {},
   "outputs": [
    {
     "data": {
      "text/plain": [
       "pandas.core.frame.DataFrame"
      ]
     },
     "execution_count": 5,
     "metadata": {},
     "output_type": "execute_result"
    }
   ],
   "source": [
    "# print the type of an object\n",
    "type(pas)"
   ]
  },
  {
   "cell_type": "code",
   "execution_count": 6,
   "metadata": {},
   "outputs": [
    {
     "data": {
      "text/plain": [
       "n_passengers    int64\n",
       "dtype: object"
      ]
     },
     "execution_count": 6,
     "metadata": {},
     "output_type": "execute_result"
    }
   ],
   "source": [
    "# print the data type of all columns except for the index column\n",
    "pas.dtypes"
   ]
  },
  {
   "cell_type": "code",
   "execution_count": 7,
   "metadata": {},
   "outputs": [
    {
     "data": {
      "text/html": [
       "<div>\n",
       "<style>\n",
       "    .dataframe thead tr:only-child th {\n",
       "        text-align: right;\n",
       "    }\n",
       "\n",
       "    .dataframe thead th {\n",
       "        text-align: left;\n",
       "    }\n",
       "\n",
       "    .dataframe tbody tr th {\n",
       "        vertical-align: top;\n",
       "    }\n",
       "</style>\n",
       "<table border=\"1\" class=\"dataframe\">\n",
       "  <thead>\n",
       "    <tr style=\"text-align: right;\">\n",
       "      <th></th>\n",
       "      <th>n_passengers</th>\n",
       "    </tr>\n",
       "  </thead>\n",
       "  <tbody>\n",
       "    <tr>\n",
       "      <th>count</th>\n",
       "      <td>144.00000</td>\n",
       "    </tr>\n",
       "    <tr>\n",
       "      <th>mean</th>\n",
       "      <td>280.29861</td>\n",
       "    </tr>\n",
       "    <tr>\n",
       "      <th>std</th>\n",
       "      <td>119.96632</td>\n",
       "    </tr>\n",
       "    <tr>\n",
       "      <th>min</th>\n",
       "      <td>104.00000</td>\n",
       "    </tr>\n",
       "    <tr>\n",
       "      <th>25%</th>\n",
       "      <td>180.00000</td>\n",
       "    </tr>\n",
       "    <tr>\n",
       "      <th>50%</th>\n",
       "      <td>265.50000</td>\n",
       "    </tr>\n",
       "    <tr>\n",
       "      <th>75%</th>\n",
       "      <td>360.50000</td>\n",
       "    </tr>\n",
       "    <tr>\n",
       "      <th>max</th>\n",
       "      <td>622.00000</td>\n",
       "    </tr>\n",
       "  </tbody>\n",
       "</table>\n",
       "</div>"
      ],
      "text/plain": [
       "       n_passengers\n",
       "count     144.00000\n",
       "mean      280.29861\n",
       "std       119.96632\n",
       "min       104.00000\n",
       "25%       180.00000\n",
       "50%       265.50000\n",
       "75%       360.50000\n",
       "max       622.00000"
      ]
     },
     "execution_count": 7,
     "metadata": {},
     "output_type": "execute_result"
    }
   ],
   "source": [
    "# print summary statistics\n",
    "pas.describe()"
   ]
  },
  {
   "cell_type": "markdown",
   "metadata": {},
   "source": [
    "Indexes are very important in the domain pandas data transformations and the applicability of prebuilt analytics methods from other libraries."
   ]
  },
  {
   "cell_type": "code",
   "execution_count": 8,
   "metadata": {},
   "outputs": [
    {
     "data": {
      "text/plain": [
       "DatetimeIndex(['1949-01-01', '1949-02-01', '1949-03-01', '1949-04-01',\n",
       "               '1949-05-01', '1949-06-01', '1949-07-01', '1949-08-01',\n",
       "               '1949-09-01', '1949-10-01',\n",
       "               ...\n",
       "               '1960-03-01', '1960-04-01', '1960-05-01', '1960-06-01',\n",
       "               '1960-07-01', '1960-08-01', '1960-09-01', '1960-10-01',\n",
       "               '1960-11-01', '1960-12-01'],\n",
       "              dtype='datetime64[ns]', name='month', length=144, freq=None)"
      ]
     },
     "execution_count": 8,
     "metadata": {},
     "output_type": "execute_result"
    }
   ],
   "source": [
    "# list the index of the DataFrame\n",
    "pas.index"
   ]
  },
  {
   "cell_type": "code",
   "execution_count": 9,
   "metadata": {
    "collapsed": true
   },
   "outputs": [],
   "source": [
    "# save the n_passenger column to a new variable, this becomes a Series object\n",
    "y = pas['n_passengers']\n",
    "\n",
    "# or\n",
    "y = pas.n_passengers"
   ]
  },
  {
   "cell_type": "code",
   "execution_count": 10,
   "metadata": {},
   "outputs": [
    {
     "data": {
      "text/plain": [
       "month\n",
       "1949-01-01    112\n",
       "1949-02-01    118\n",
       "1949-03-01    132\n",
       "1949-04-01    129\n",
       "1949-05-01    121\n",
       "Name: n_passengers, dtype: int64"
      ]
     },
     "execution_count": 10,
     "metadata": {},
     "output_type": "execute_result"
    }
   ],
   "source": [
    "# print first 5 rows\n",
    "y.head()"
   ]
  },
  {
   "cell_type": "code",
   "execution_count": 11,
   "metadata": {},
   "outputs": [
    {
     "data": {
      "text/plain": [
       "pandas.core.series.Series"
      ]
     },
     "execution_count": 11,
     "metadata": {},
     "output_type": "execute_result"
    }
   ],
   "source": [
    "# print type of the ts object\n",
    "type(y)"
   ]
  },
  {
   "cell_type": "code",
   "execution_count": 12,
   "metadata": {},
   "outputs": [
    {
     "data": {
      "text/plain": [
       "month\n",
       "1950-01-01    115\n",
       "1950-02-01    126\n",
       "1950-03-01    141\n",
       "1950-04-01    135\n",
       "1950-05-01    125\n",
       "1950-06-01    149\n",
       "1950-07-01    170\n",
       "1950-08-01    170\n",
       "1950-09-01    158\n",
       "1950-10-01    133\n",
       "1950-11-01    114\n",
       "1950-12-01    140\n",
       "Name: n_passengers, dtype: int64"
      ]
     },
     "execution_count": 12,
     "metadata": {},
     "output_type": "execute_result"
    }
   ],
   "source": [
    "# select all entries from the year '1950'\n",
    "y['1950']"
   ]
  },
  {
   "cell_type": "markdown",
   "metadata": {},
   "source": [
    "## 1.2 Download data with pandas_datareader\n",
    "\n",
    "This is a sample workflow of how to retrieve data directly from the web using the <code>pandas_datareader</code> module to access <strong>stock closing price data</strong> from the Yahoo! Finance or Google Finance APIs. Yahoo! Finance is up to now the most popular service, and thus it will also be used here."
   ]
  },
  {
   "cell_type": "code",
   "execution_count": 13,
   "metadata": {
    "collapsed": true
   },
   "outputs": [],
   "source": [
    "# define arguments\n",
    "tickers = ['AAPL', 'AMZN', 'FB', 'GOOG', 'NFLX', '^GSPC']\n",
    "provider = 'yahoo'\n",
    "start = datetime.datetime(2012, 5, 18)\n",
    "end = datetime.date(2017, 8, 22)"
   ]
  },
  {
   "cell_type": "code",
   "execution_count": 14,
   "metadata": {
    "collapsed": true
   },
   "outputs": [],
   "source": [
    "# ask Yahoo! Finance for data\n",
    "panel = web.DataReader(tickers, provider, start, end)"
   ]
  },
  {
   "cell_type": "markdown",
   "metadata": {},
   "source": [
    "While we are at it we can also donwload data about <strong>corporate actions</strong> like stock split or dividend payments"
   ]
  },
  {
   "cell_type": "code",
   "execution_count": 15,
   "metadata": {
    "collapsed": true
   },
   "outputs": [],
   "source": [
    "# ask Yahoo! Finance for data\n",
    "corporate_actions = web.DataReader(tickers, 'yahoo-actions', start, end)"
   ]
  },
  {
   "cell_type": "code",
   "execution_count": 16,
   "metadata": {},
   "outputs": [
    {
     "data": {
      "text/plain": [
       "<class 'pandas.core.panel.Panel'>\n",
       "Dimensions: 2 (items) x 25 (major_axis) x 6 (minor_axis)\n",
       "Items axis: Stock Splits to Dividends\n",
       "Major_axis axis: 2012-08-09 00:00:00 to 2017-08-10 00:00:00\n",
       "Minor_axis axis: AAPL to ^GSPC"
      ]
     },
     "execution_count": 16,
     "metadata": {},
     "output_type": "execute_result"
    }
   ],
   "source": [
    "corporate_actions"
   ]
  },
  {
   "cell_type": "code",
   "execution_count": 19,
   "metadata": {},
   "outputs": [
    {
     "data": {
      "text/plain": [
       "[Index(['Stock Splits', 'Dividends'], dtype='object'),\n",
       " DatetimeIndex(['2012-08-09', '2012-11-07', '2013-02-07', '2013-05-09',\n",
       "                '2013-08-08', '2013-11-06', '2014-02-06', '2014-03-27',\n",
       "                '2014-05-08', '2014-06-09', '2014-08-07', '2014-11-06',\n",
       "                '2015-02-05', '2015-04-27', '2015-05-07', '2015-07-15',\n",
       "                '2015-08-06', '2015-11-05', '2016-02-04', '2016-05-05',\n",
       "                '2016-08-04', '2016-11-03', '2017-02-09', '2017-05-11',\n",
       "                '2017-08-10'],\n",
       "               dtype='datetime64[ns]', name='Date', freq=None),\n",
       " Index(['AAPL', 'AMZN', 'FB', 'GOOG', 'NFLX', '^GSPC'], dtype='object')]"
      ]
     },
     "execution_count": 19,
     "metadata": {},
     "output_type": "execute_result"
    }
   ],
   "source": [
    "# show corporate actions axes\n",
    "corporate_actions.axes"
   ]
  },
  {
   "cell_type": "code",
   "execution_count": 31,
   "metadata": {},
   "outputs": [
    {
     "data": {
      "text/plain": [
       "Date\n",
       "2012-08-09    NaN\n",
       "2012-11-07    NaN\n",
       "Name: AAPL, dtype: object"
      ]
     },
     "execution_count": 31,
     "metadata": {},
     "output_type": "execute_result"
    }
   ],
   "source": [
    "corporate_actions.loc['Stock Splits', '2012' ,'AAPL']"
   ]
  },
  {
   "cell_type": "markdown",
   "metadata": {},
   "source": [
    "A panel can be thought of as a collection od <code>DateFrame</code> object. We are interest in adjusted prices only, that is, prices that are corrected for dividend payments such that we do not exhibit jumps or breaks in the stock time series. Using the <code>loc<7code> selector we can select a column element across all included dataframes"
   ]
  },
  {
   "cell_type": "code",
   "execution_count": null,
   "metadata": {
    "collapsed": true
   },
   "outputs": [],
   "source": [
    "# get adjusted closing prices from all data series\n",
    "# this reduces the Panel to a DataFrame\n",
    "adj_close = panel.loc['Adj Close']\n",
    "\n",
    "# get all weekdays between 18.05.2012 and 22.08.2017\n",
    "all_weekdays = pd.date_range(start=start, end=end, freq='B')\n",
    "\n",
    "# adjust the DataFrame index to be only the weekdays\n",
    "adj_close = adj_close.reindex(all_weekdays)\n",
    "\n",
    "# after reindexing we have to amend for missing values\n",
    "adj_close = adj_close.fillna(method='ffill')"
   ]
  },
  {
   "cell_type": "code",
   "execution_count": null,
   "metadata": {
    "collapsed": true
   },
   "outputs": [],
   "source": [
    "# have a look at what we have created\n",
    "adj_close.head()"
   ]
  },
  {
   "cell_type": "code",
   "execution_count": null,
   "metadata": {
    "collapsed": true
   },
   "outputs": [],
   "source": [
    "type(adj_close)"
   ]
  },
  {
   "cell_type": "markdown",
   "metadata": {},
   "source": [
    "## 1.3 Build a stock price data set\n",
    "\n",
    "The <code>Panel</code> object we created earlier contains much more that then we actually need for this notebook. Thus, we can use a more elegant way to can exaclty the data that we want"
   ]
  },
  {
   "cell_type": "code",
   "execution_count": null,
   "metadata": {
    "collapsed": true
   },
   "outputs": [],
   "source": [
    "# ask Yahoo! Finance for data and save to DataFrame\n",
    "data = web.DataReader(tickers, 'yahoo', start, end)['Adj Close']\n",
    "\n",
    "# save data to a .csv\n",
    "data.to_csv('./data/raw_data.csv', sep=';')\n",
    "\n",
    "# show the data\n",
    "data.head()"
   ]
  },
  {
   "cell_type": "code",
   "execution_count": null,
   "metadata": {
    "collapsed": true
   },
   "outputs": [],
   "source": [
    "# import data from a .csv\n",
    "data = pd.read_csv('./data/raw_data.csv', header=0, sep=';', parse_dates=True, index_col=0)\n",
    "\n",
    "# rearrange data to only show week days\n",
    "all_weekdays = pd.date_range(start=start, end=end, freq='B')\n",
    "data = data.reindex(all_weekdays)\n",
    "\n",
    "# after reindexing we have to amend for missing values\n",
    "data = data.fillna(method='ffill')\n",
    "data.head()"
   ]
  },
  {
   "cell_type": "markdown",
   "metadata": {},
   "source": [
    "How many working days are there in a year?"
   ]
  },
  {
   "cell_type": "code",
   "execution_count": null,
   "metadata": {
    "collapsed": true
   },
   "outputs": [],
   "source": [
    "# the actual length of one year of working days 365 - 2 * 52\n",
    "len(pd.date_range(start=datetime.datetime(2012, 5, 18), end=datetime.datetime(2013, 5, 18), freq='B'))"
   ]
  },
  {
   "cell_type": "markdown",
   "metadata": {},
   "source": [
    "## 1.4 Data visualization\n",
    "\n",
    "Main tools for plotting in this Notebook are the libraries <code>matplotlib</code>, which contains a lot of the functionalities available in MathLab without the interface, and <code>seaborn</code>."
   ]
  },
  {
   "cell_type": "code",
   "execution_count": null,
   "metadata": {
    "collapsed": true
   },
   "outputs": [],
   "source": [
    "# initialize figure and axis\n",
    "fig, ax = plt.subplots();\n",
    "\n",
    "# plot resampled series\n",
    "pas['n_passengers'].plot(ax=ax);\n",
    "\n",
    "# style the plot\n",
    "ax.set_title('International Airline Passengers');\n",
    "ax.set_ylabel('Passengers (in thousands)');\n",
    "ax.set_xlabel('Year');\n",
    "ax.xaxis.set_ticks_position('bottom');\n",
    "fig.tight_layout();\n",
    "\n",
    "# show the plot\n",
    "plt.show()"
   ]
  },
  {
   "cell_type": "markdown",
   "metadata": {},
   "source": [
    "We can see that there must be some kind trend component included in this time series. \n",
    "\n",
    "To show this more obiously: By using the <code>resample</code> method on the <code>DataFrame</code> object (our time series) with  argument <code>'AS'</code> we construct a new time series. The series as it is resampled is offest a the beginning of each year. By summing the resampled values we can see a steady increase of total passengers over the years."
   ]
  },
  {
   "cell_type": "code",
   "execution_count": null,
   "metadata": {
    "collapsed": true
   },
   "outputs": [],
   "source": [
    "# initialize figure and axis\n",
    "fig, ax = plt.subplots();\n",
    "\n",
    "# plot resampled series\n",
    "pas['n_passengers'].resample('AS').sum().plot(ax=ax)\n",
    "\n",
    "# style the plot\n",
    "ax.set_title('International Airline Passengers', fontweight='bold');\n",
    "ax.set_ylabel('Passengers (in thousands)');\n",
    "ax.set_xlabel('Year');\n",
    "ax.xaxis.set_ticks_position('bottom');\n",
    "fig.tight_layout();\n",
    "\n",
    "# show the plot\n",
    "plt.show()"
   ]
  },
  {
   "cell_type": "markdown",
   "metadata": {},
   "source": [
    "## 1.5 Exercise\n",
    "\n",
    "Import the earlier created stock prices data set and save it in a formatted fashion to a variable called <code>stock</code>. You may want to use import arguments. It can be found in the <code>./data/raw_data.csv</code> in your corresponding path. Have a look at the top rows and print the summary statistics. "
   ]
  },
  {
   "cell_type": "code",
   "execution_count": null,
   "metadata": {
    "collapsed": true
   },
   "outputs": [],
   "source": []
  },
  {
   "cell_type": "markdown",
   "metadata": {},
   "source": [
    "Asign the Apple stock time series to a <code>Series</code> object named <code>ts</code> and plot it"
   ]
  },
  {
   "cell_type": "code",
   "execution_count": null,
   "metadata": {
    "collapsed": true
   },
   "outputs": [],
   "source": []
  },
  {
   "cell_type": "markdown",
   "metadata": {},
   "source": [
    "Open the data folder and have a look at the other data sets. Your are free to explore these as well. Is there anything peculiar about the <code>temp_ger.csv</code> data set?"
   ]
  },
  {
   "cell_type": "code",
   "execution_count": null,
   "metadata": {
    "collapsed": true
   },
   "outputs": [],
   "source": []
  },
  {
   "cell_type": "code",
   "execution_count": null,
   "metadata": {
    "collapsed": true
   },
   "outputs": [],
   "source": []
  },
  {
   "cell_type": "code",
   "execution_count": null,
   "metadata": {
    "collapsed": true
   },
   "outputs": [],
   "source": []
  },
  {
   "cell_type": "code",
   "execution_count": null,
   "metadata": {
    "collapsed": true
   },
   "outputs": [],
   "source": []
  }
 ],
 "metadata": {
  "kernelspec": {
   "display_name": "Python 3",
   "language": "python",
   "name": "python3"
  },
  "language_info": {
   "codemirror_mode": {
    "name": "ipython",
    "version": 3
   },
   "file_extension": ".py",
   "mimetype": "text/x-python",
   "name": "python",
   "nbconvert_exporter": "python",
   "pygments_lexer": "ipython3",
   "version": "3.5.3"
  }
 },
 "nbformat": 4,
 "nbformat_minor": 2
}
